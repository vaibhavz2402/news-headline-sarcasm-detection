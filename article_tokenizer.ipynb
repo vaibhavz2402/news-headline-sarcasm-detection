{
 "cells": [
  {
   "cell_type": "code",
   "execution_count": 1,
   "metadata": {},
   "outputs": [],
   "source": [
    "import pandas as pd\n",
    "import numpy as np\n",
    "import tensorflow as tf"
   ]
  },
  {
   "cell_type": "code",
   "execution_count": 2,
   "metadata": {},
   "outputs": [
    {
     "data": {
      "text/html": [
       "<div>\n",
       "<style scoped>\n",
       "    .dataframe tbody tr th:only-of-type {\n",
       "        vertical-align: middle;\n",
       "    }\n",
       "\n",
       "    .dataframe tbody tr th {\n",
       "        vertical-align: top;\n",
       "    }\n",
       "\n",
       "    .dataframe thead th {\n",
       "        text-align: right;\n",
       "    }\n",
       "</style>\n",
       "<table border=\"1\" class=\"dataframe\">\n",
       "  <thead>\n",
       "    <tr style=\"text-align: right;\">\n",
       "      <th></th>\n",
       "      <th>is_sarcastic</th>\n",
       "      <th>headline</th>\n",
       "      <th>article_link</th>\n",
       "    </tr>\n",
       "  </thead>\n",
       "  <tbody>\n",
       "    <tr>\n",
       "      <td>0</td>\n",
       "      <td>1</td>\n",
       "      <td>thirtysomething scientists unveil doomsday clo...</td>\n",
       "      <td>https://www.theonion.com/thirtysomething-scien...</td>\n",
       "    </tr>\n",
       "    <tr>\n",
       "      <td>1</td>\n",
       "      <td>0</td>\n",
       "      <td>dem rep. totally nails why congress is falling...</td>\n",
       "      <td>https://www.huffingtonpost.com/entry/donna-edw...</td>\n",
       "    </tr>\n",
       "    <tr>\n",
       "      <td>2</td>\n",
       "      <td>0</td>\n",
       "      <td>eat your veggies: 9 deliciously different recipes</td>\n",
       "      <td>https://www.huffingtonpost.com/entry/eat-your-...</td>\n",
       "    </tr>\n",
       "    <tr>\n",
       "      <td>3</td>\n",
       "      <td>1</td>\n",
       "      <td>inclement weather prevents liar from getting t...</td>\n",
       "      <td>https://local.theonion.com/inclement-weather-p...</td>\n",
       "    </tr>\n",
       "    <tr>\n",
       "      <td>4</td>\n",
       "      <td>1</td>\n",
       "      <td>mother comes pretty close to using word 'strea...</td>\n",
       "      <td>https://www.theonion.com/mother-comes-pretty-c...</td>\n",
       "    </tr>\n",
       "    <tr>\n",
       "      <td>5</td>\n",
       "      <td>0</td>\n",
       "      <td>my white inheritance</td>\n",
       "      <td>https://www.huffingtonpost.com/entry/my-white-...</td>\n",
       "    </tr>\n",
       "    <tr>\n",
       "      <td>6</td>\n",
       "      <td>0</td>\n",
       "      <td>5 ways to file your taxes with less stress</td>\n",
       "      <td>https://www.huffingtonpost.com/entry/5-ways-to...</td>\n",
       "    </tr>\n",
       "    <tr>\n",
       "      <td>7</td>\n",
       "      <td>1</td>\n",
       "      <td>richard branson's global-warming donation near...</td>\n",
       "      <td>https://www.theonion.com/richard-bransons-glob...</td>\n",
       "    </tr>\n",
       "    <tr>\n",
       "      <td>8</td>\n",
       "      <td>1</td>\n",
       "      <td>shadow government getting too large to meet in...</td>\n",
       "      <td>https://politics.theonion.com/shadow-governmen...</td>\n",
       "    </tr>\n",
       "    <tr>\n",
       "      <td>9</td>\n",
       "      <td>0</td>\n",
       "      <td>lots of parents know this scenario</td>\n",
       "      <td>https://www.huffingtonpost.comhttp://pubx.co/6...</td>\n",
       "    </tr>\n",
       "  </tbody>\n",
       "</table>\n",
       "</div>"
      ],
      "text/plain": [
       "   is_sarcastic                                           headline  \\\n",
       "0             1  thirtysomething scientists unveil doomsday clo...   \n",
       "1             0  dem rep. totally nails why congress is falling...   \n",
       "2             0  eat your veggies: 9 deliciously different recipes   \n",
       "3             1  inclement weather prevents liar from getting t...   \n",
       "4             1  mother comes pretty close to using word 'strea...   \n",
       "5             0                               my white inheritance   \n",
       "6             0         5 ways to file your taxes with less stress   \n",
       "7             1  richard branson's global-warming donation near...   \n",
       "8             1  shadow government getting too large to meet in...   \n",
       "9             0                 lots of parents know this scenario   \n",
       "\n",
       "                                        article_link  \n",
       "0  https://www.theonion.com/thirtysomething-scien...  \n",
       "1  https://www.huffingtonpost.com/entry/donna-edw...  \n",
       "2  https://www.huffingtonpost.com/entry/eat-your-...  \n",
       "3  https://local.theonion.com/inclement-weather-p...  \n",
       "4  https://www.theonion.com/mother-comes-pretty-c...  \n",
       "5  https://www.huffingtonpost.com/entry/my-white-...  \n",
       "6  https://www.huffingtonpost.com/entry/5-ways-to...  \n",
       "7  https://www.theonion.com/richard-bransons-glob...  \n",
       "8  https://politics.theonion.com/shadow-governmen...  \n",
       "9  https://www.huffingtonpost.comhttp://pubx.co/6...  "
      ]
     },
     "execution_count": 2,
     "metadata": {},
     "output_type": "execute_result"
    }
   ],
   "source": [
    "df = pd.read_json('Sarcasm_Headlines_Dataset_v2.json', lines =True)\n",
    "df.head(10)"
   ]
  },
  {
   "cell_type": "code",
   "execution_count": 3,
   "metadata": {},
   "outputs": [],
   "source": [
    "from tensorflow.keras.preprocessing.text import Tokenizer\n",
    "from tensorflow.keras.preprocessing.sequence import pad_sequences"
   ]
  },
  {
   "cell_type": "code",
   "execution_count": 24,
   "metadata": {},
   "outputs": [],
   "source": [
    "oov_tok = '<OOV>'\n",
    "max_len = 40\n",
    "embedding_dim = 32\n",
    "trunc_type = 'post'\n",
    "padding_type = 'post'\n",
    "vocab_size = 10000\n",
    "training_size = 20000"
   ]
  },
  {
   "cell_type": "code",
   "execution_count": 25,
   "metadata": {},
   "outputs": [
    {
     "name": "stdout",
     "output_type": "stream",
     "text": [
      "<class 'pandas.core.series.Series'>\n"
     ]
    }
   ],
   "source": [
    "training_sentences = df.headline[:training_size]\n",
    "training_labels = df.is_sarcastic[:training_size]\n",
    "print(type(training_labels))\n",
    "\n",
    "testing_sentences = df.headline[training_size:]\n",
    "testing_labels = df.is_sarcastic[training_size:]"
   ]
  },
  {
   "cell_type": "code",
   "execution_count": 26,
   "metadata": {},
   "outputs": [],
   "source": [
    "training_labels_f = np.array(training_labels)\n",
    "testing_labels_f = np.array(testing_labels)"
   ]
  },
  {
   "cell_type": "code",
   "execution_count": 27,
   "metadata": {},
   "outputs": [],
   "source": [
    "tokenizer = Tokenizer(num_words=vocab_size , oov_token=oov_tok)\n",
    "tokenizer.fit_on_texts(training_sentences)\n",
    "word_index = tokenizer.word_index"
   ]
  },
  {
   "cell_type": "code",
   "execution_count": 28,
   "metadata": {},
   "outputs": [],
   "source": [
    "training_sequences = tokenizer.texts_to_sequences(training_sentences)\n",
    "training_paded = pad_sequences(training_sequences, padding = padding_type, maxlen = max_len, truncating = trunc_type)"
   ]
  },
  {
   "cell_type": "code",
   "execution_count": 29,
   "metadata": {},
   "outputs": [],
   "source": [
    "testing_sequences = tokenizer.texts_to_sequences(testing_sentences)\n",
    "testing_paded = pad_sequences(testing_sequences, padding = padding_type, maxlen = max_len, truncating = trunc_type)"
   ]
  },
  {
   "cell_type": "code",
   "execution_count": 30,
   "metadata": {},
   "outputs": [],
   "source": [
    "#word_index"
   ]
  },
  {
   "cell_type": "code",
   "execution_count": 31,
   "metadata": {
    "scrolled": true
   },
   "outputs": [],
   "source": [
    "reverse_word_index = dict([(value, key) for (key, value) in word_index.items()]) "
   ]
  },
  {
   "cell_type": "code",
   "execution_count": 32,
   "metadata": {},
   "outputs": [
    {
     "data": {
      "text/plain": [
       "(20000, 40)"
      ]
     },
     "execution_count": 32,
     "metadata": {},
     "output_type": "execute_result"
    }
   ],
   "source": [
    "training_paded.shape"
   ]
  },
  {
   "cell_type": "code",
   "execution_count": 33,
   "metadata": {},
   "outputs": [
    {
     "data": {
      "text/plain": [
       "(8619, 40)"
      ]
     },
     "execution_count": 33,
     "metadata": {},
     "output_type": "execute_result"
    }
   ],
   "source": [
    "testing_paded.shape"
   ]
  },
  {
   "cell_type": "code",
   "execution_count": 34,
   "metadata": {},
   "outputs": [],
   "source": [
    "def decode_headline(text):\n",
    "        return ' '.join([reverse_word_index.get(i,'?') for i in text])"
   ]
  },
  {
   "cell_type": "code",
   "execution_count": 35,
   "metadata": {},
   "outputs": [
    {
     "name": "stdout",
     "output_type": "stream",
     "text": [
      "inclement weather prevents liar from getting to work ? ? ? ? ? ? ? ? ? ? ? ? ? ? ? ? ? ? ? ? ? ? ? ? ? ? ? ? ? ? ? ?\n"
     ]
    }
   ],
   "source": [
    "print(decode_headline(training_paded[3]))"
   ]
  },
  {
   "cell_type": "code",
   "execution_count": 36,
   "metadata": {},
   "outputs": [
    {
     "data": {
      "text/plain": [
       "'inclement weather prevents liar from getting to work'"
      ]
     },
     "execution_count": 36,
     "metadata": {},
     "output_type": "execute_result"
    }
   ],
   "source": [
    "training_sentences[3]"
   ]
  },
  {
   "cell_type": "code",
   "execution_count": 37,
   "metadata": {},
   "outputs": [],
   "source": [
    "model = tf.keras.Sequential([\n",
    "    tf.keras.layers.Embedding(vocab_size, embedding_dim, input_length = max_len),\n",
    "    tf.keras.layers.GlobalAveragePooling1D(),\n",
    "    tf.keras.layers.Dense(24, activation = 'relu'),\n",
    "    tf.keras.layers.Dense(1, activation = 'sigmoid')\n",
    "])\n",
    "model.compile(loss = 'binary_crossentropy', optimizer = 'adam', metrics = ['accuracy'])"
   ]
  },
  {
   "cell_type": "code",
   "execution_count": 38,
   "metadata": {},
   "outputs": [
    {
     "name": "stdout",
     "output_type": "stream",
     "text": [
      "Model: \"sequential_1\"\n",
      "_________________________________________________________________\n",
      "Layer (type)                 Output Shape              Param #   \n",
      "=================================================================\n",
      "embedding_1 (Embedding)      (None, 40, 32)            320000    \n",
      "_________________________________________________________________\n",
      "global_average_pooling1d_1 ( (None, 32)                0         \n",
      "_________________________________________________________________\n",
      "dense_2 (Dense)              (None, 24)                792       \n",
      "_________________________________________________________________\n",
      "dense_3 (Dense)              (None, 1)                 25        \n",
      "=================================================================\n",
      "Total params: 320,817\n",
      "Trainable params: 320,817\n",
      "Non-trainable params: 0\n",
      "_________________________________________________________________\n"
     ]
    }
   ],
   "source": [
    "model.summary()"
   ]
  },
  {
   "cell_type": "code",
   "execution_count": 39,
   "metadata": {},
   "outputs": [
    {
     "name": "stdout",
     "output_type": "stream",
     "text": [
      "Train on 20000 samples, validate on 8619 samples\n",
      "Epoch 1/30\n",
      "20000/20000 - 4s - loss: 0.5469 - accuracy: 0.7191 - val_loss: 0.3713 - val_accuracy: 0.8416\n",
      "Epoch 2/30\n",
      "20000/20000 - 4s - loss: 0.3034 - accuracy: 0.8770 - val_loss: 0.3294 - val_accuracy: 0.8593\n",
      "Epoch 3/30\n",
      "20000/20000 - 4s - loss: 0.2293 - accuracy: 0.9101 - val_loss: 0.3411 - val_accuracy: 0.8529\n",
      "Epoch 4/30\n",
      "20000/20000 - 4s - loss: 0.1870 - accuracy: 0.9282 - val_loss: 0.3600 - val_accuracy: 0.8477\n",
      "Epoch 5/30\n",
      "20000/20000 - 4s - loss: 0.1560 - accuracy: 0.9431 - val_loss: 0.3958 - val_accuracy: 0.8380\n",
      "Epoch 6/30\n",
      "20000/20000 - 4s - loss: 0.1329 - accuracy: 0.9512 - val_loss: 0.4271 - val_accuracy: 0.8378\n",
      "Epoch 7/30\n",
      "20000/20000 - 4s - loss: 0.1119 - accuracy: 0.9615 - val_loss: 0.4881 - val_accuracy: 0.8281\n",
      "Epoch 8/30\n",
      "20000/20000 - 4s - loss: 0.0965 - accuracy: 0.9671 - val_loss: 0.5200 - val_accuracy: 0.8290\n",
      "Epoch 9/30\n",
      "20000/20000 - 4s - loss: 0.0840 - accuracy: 0.9723 - val_loss: 0.5758 - val_accuracy: 0.8261\n",
      "Epoch 10/30\n",
      "20000/20000 - 4s - loss: 0.0723 - accuracy: 0.9769 - val_loss: 0.6346 - val_accuracy: 0.8195\n",
      "Epoch 11/30\n",
      "20000/20000 - 4s - loss: 0.0627 - accuracy: 0.9800 - val_loss: 0.6805 - val_accuracy: 0.8203\n",
      "Epoch 12/30\n",
      "20000/20000 - 4s - loss: 0.0549 - accuracy: 0.9830 - val_loss: 0.7481 - val_accuracy: 0.8154\n",
      "Epoch 13/30\n",
      "20000/20000 - 4s - loss: 0.0496 - accuracy: 0.9846 - val_loss: 0.8112 - val_accuracy: 0.8151\n",
      "Epoch 14/30\n",
      "20000/20000 - 4s - loss: 0.0431 - accuracy: 0.9873 - val_loss: 0.8498 - val_accuracy: 0.8152\n",
      "Epoch 15/30\n",
      "20000/20000 - 4s - loss: 0.0380 - accuracy: 0.9884 - val_loss: 0.9180 - val_accuracy: 0.8117\n",
      "Epoch 16/30\n",
      "20000/20000 - 4s - loss: 0.0350 - accuracy: 0.9905 - val_loss: 0.9795 - val_accuracy: 0.8091\n",
      "Epoch 17/30\n",
      "20000/20000 - 4s - loss: 0.0319 - accuracy: 0.9906 - val_loss: 1.0216 - val_accuracy: 0.8089\n",
      "Epoch 18/30\n",
      "20000/20000 - 4s - loss: 0.0284 - accuracy: 0.9914 - val_loss: 1.0821 - val_accuracy: 0.8067\n",
      "Epoch 19/30\n",
      "20000/20000 - 4s - loss: 0.0247 - accuracy: 0.9928 - val_loss: 1.1321 - val_accuracy: 0.8053\n",
      "Epoch 20/30\n",
      "20000/20000 - 4s - loss: 0.0220 - accuracy: 0.9939 - val_loss: 1.2048 - val_accuracy: 0.8015\n",
      "Epoch 21/30\n",
      "20000/20000 - 4s - loss: 0.0201 - accuracy: 0.9945 - val_loss: 1.2720 - val_accuracy: 0.8000\n",
      "Epoch 22/30\n",
      "20000/20000 - 4s - loss: 0.0180 - accuracy: 0.9951 - val_loss: 1.3176 - val_accuracy: 0.8014\n",
      "Epoch 23/30\n",
      "20000/20000 - 4s - loss: 0.0158 - accuracy: 0.9958 - val_loss: 1.4084 - val_accuracy: 0.7968\n",
      "Epoch 24/30\n",
      "20000/20000 - 4s - loss: 0.0137 - accuracy: 0.9959 - val_loss: 1.5030 - val_accuracy: 0.7975\n",
      "Epoch 25/30\n",
      "20000/20000 - 4s - loss: 0.0125 - accuracy: 0.9965 - val_loss: 1.5676 - val_accuracy: 0.7984\n",
      "Epoch 26/30\n",
      "20000/20000 - 4s - loss: 0.0123 - accuracy: 0.9963 - val_loss: 1.6173 - val_accuracy: 0.7950\n",
      "Epoch 27/30\n",
      "20000/20000 - 4s - loss: 0.0119 - accuracy: 0.9968 - val_loss: 1.6966 - val_accuracy: 0.7971\n",
      "Epoch 28/30\n",
      "20000/20000 - 4s - loss: 0.0111 - accuracy: 0.9969 - val_loss: 1.7177 - val_accuracy: 0.7963\n",
      "Epoch 29/30\n",
      "20000/20000 - 4s - loss: 0.0101 - accuracy: 0.9970 - val_loss: 1.7906 - val_accuracy: 0.7897\n",
      "Epoch 30/30\n",
      "20000/20000 - 4s - loss: 0.0120 - accuracy: 0.9963 - val_loss: 1.8176 - val_accuracy: 0.7950\n"
     ]
    }
   ],
   "source": [
    "num_epoch = 30\n",
    "model_detail = model.fit(training_paded, training_labels_f, epochs = num_epoch, validation_data=(testing_paded, testing_labels_f), verbose = 2 )"
   ]
  },
  {
   "cell_type": "code",
   "execution_count": 40,
   "metadata": {},
   "outputs": [],
   "source": [
    "import matplotlib.pyplot as plt"
   ]
  },
  {
   "cell_type": "code",
   "execution_count": 41,
   "metadata": {},
   "outputs": [],
   "source": [
    "def plot_graphs(model_detail, string):\n",
    "    plt.plot(model_detail.history[string])\n",
    "    plt.plot(model_detail.history['val_' + string])\n",
    "    plt.xlabel('Epochs')\n",
    "    plt.ylabel(string)\n",
    "    plt.legend([string, 'val_' + string])\n",
    "    plt.show()\n"
   ]
  },
  {
   "cell_type": "code",
   "execution_count": 42,
   "metadata": {},
   "outputs": [
    {
     "data": {
      "image/png": "[encoded data removed]",
      "text/plain": [
       "<Figure size 432x288 with 1 Axes>"
      ]
     },
     "metadata": {
      "needs_background": "light"
     },
     "output_type": "display_data"
    }
   ],
   "source": [
    "plot_graphs(model_detail, 'loss')"
   ]
  },
  {
   "cell_type": "code",
   "execution_count": 43,
   "metadata": {
    "scrolled": true
   },
   "outputs": [
    {
     "data": {
      "image/png": "[encoded data removed]",
      "text/plain": [
       "<Figure size 432x288 with 1 Axes>"
      ]
     },
     "metadata": {
      "needs_background": "light"
     },
     "output_type": "display_data"
    }
   ],
   "source": [
    "plot_graphs(model_detail, 'accuracy')"
   ]
  },
  {
   "cell_type": "code",
   "execution_count": null,
   "metadata": {},
   "outputs": [],
   "source": []
  }
 ],
 "metadata": {
  "kernelspec": {
   "display_name": "Python 3",
   "language": "python",
   "name": "python3"
  },
  "language_info": {
   "codemirror_mode": {
    "name": "ipython",
    "version": 3
   },
   "file_extension": ".py",
   "mimetype": "text/x-python",
   "name": "python",
   "nbconvert_exporter": "python",
   "pygments_lexer": "ipython3",
   "version": "3.7.4"
  }
 },
 "nbformat": 4,
 "nbformat_minor": 2
}
